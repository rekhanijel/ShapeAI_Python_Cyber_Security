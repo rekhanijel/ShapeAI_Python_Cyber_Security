{
  "nbformat": 4,
  "nbformat_minor": 0,
  "metadata": {
    "colab": {
      "name": "Rekha.ipynb",
      "provenance": [],
      "authorship_tag": "ABX9TyOLjXEEms6VS1wpgL6WTcw1",
      "include_colab_link": true
    },
    "kernelspec": {
      "name": "python3",
      "display_name": "Python 3"
    },
    "language_info": {
      "name": "python"
    }
  },
  "cells": [
    {
      "cell_type": "markdown",
      "metadata": {
        "id": "view-in-github",
        "colab_type": "text"
      },
      "source": [
        "<a href=\"https://colab.research.google.com/github/rekhanijel/ShapeAI_Python_Cyber_Security/blob/main/Rekha.ipynb\" target=\"_parent\"><img src=\"https://colab.research.google.com/assets/colab-badge.svg\" alt=\"Open In Colab\"/></a>"
      ]
    },
    {
      "cell_type": "code",
      "metadata": {
        "colab": {
          "base_uri": "https://localhost:8080/"
        },
        "id": "vpGR9SR9it5g",
        "outputId": "fc26aeef-6657-4503-b472-45dd719894cd"
      },
      "source": [
        "import requests\n",
        "from datetime import datetime\n",
        "\n",
        "api_key='6f68c13fb24a0b49f689d196c717a3d6'\n",
        "location=input(\"Enter the city name: \")\n",
        "\n",
        "complete_api_link = \"http://api.openweathermap.org/data/2.5/weather?q=\"+location+\"&appid=\"+api_key\n",
        "api_link=requests.get(complete_api_link)\n",
        "api_data=api_link.json()\n",
        "\n",
        "temp_city=((api_data['main']['temp']) - 273.15)\n",
        "weather_desc=api_data['weather'][0]['description']\n",
        "hmdt=api_data['main']['humidity']\n",
        "wind_spd=api_data['wind']['speed']\n",
        "date_time=datetime.now().strftime(\"%d %b %Y | %I:%M:%s %p\")\n",
        "\n",
        "sourceFile = open('output.txt', 'w')\n",
        "\n",
        "\n",
        "print(\"------------------------------------------------\", file = sourceFile)\n",
        "print(\"Weather Starts for - {} || {}\".format(location.upper(),date_time), file = sourceFile)\n",
        "print(\"------------------------------------------------\", file = sourceFile)\n",
        "\n",
        "\n",
        "print(\"Current temperature is {:.2f} deg C\".format(temp_city), file = sourceFile)\n",
        "print(\"Current weather desc   :\",weather_desc, file = sourceFile)\n",
        "print(\"Current Humidity  :\", hmdt,'%', file = sourceFile)\n",
        "print(\"Current wind speed  :\",wind_spd,'kmph', file = sourceFile)\n",
        "\n",
        "\n",
        "sourceFile.close()"
      ],
      "execution_count": 19,
      "outputs": [
        {
          "output_type": "stream",
          "text": [
            "Enter the city name: kochi\n"
          ],
          "name": "stdout"
        }
      ]
    }
  ]
}